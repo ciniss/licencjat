{
 "cells": [
  {
   "cell_type": "code",
   "execution_count": 1,
   "metadata": {
    "collapsed": true,
    "ExecuteTime": {
     "end_time": "2023-05-30T16:09:50.498788480Z",
     "start_time": "2023-05-30T16:09:49.493364101Z"
    }
   },
   "outputs": [
    {
     "name": "stderr",
     "output_type": "stream",
     "text": [
      "2023-05-30 18:09:49.492974: I tensorflow/core/platform/cpu_feature_guard.cc:193] This TensorFlow binary is optimized with oneAPI Deep Neural Network Library (oneDNN) to use the following CPU instructions in performance-critical operations:  AVX2 FMA\n",
      "To enable them in other operations, rebuild TensorFlow with the appropriate compiler flags.\n",
      "2023-05-30 18:09:49.984653: W tensorflow/compiler/xla/stream_executor/platform/default/dso_loader.cc:64] Could not load dynamic library 'libnvinfer.so.7'; dlerror: libnvinfer.so.7: cannot open shared object file: No such file or directory\n",
      "2023-05-30 18:09:49.984688: W tensorflow/compiler/xla/stream_executor/platform/default/dso_loader.cc:64] Could not load dynamic library 'libnvinfer_plugin.so.7'; dlerror: libnvinfer_plugin.so.7: cannot open shared object file: No such file or directory\n",
      "2023-05-30 18:09:49.984692: W tensorflow/compiler/tf2tensorrt/utils/py_utils.cc:38] TF-TRT Warning: Cannot dlopen some TensorRT libraries. If you would like to use Nvidia GPU with TensorRT, please make sure the missing libraries mentioned above are installed properly.\n"
     ]
    }
   ],
   "source": [
    "import tensorflow as tf\n",
    "\n",
    "mnist = tf.keras.datasets.mnist\n",
    "\n",
    "(X_train, y_train), (X_test, y_test) = mnist.load_data()"
   ]
  },
  {
   "cell_type": "code",
   "execution_count": 2,
   "outputs": [
    {
     "name": "stdout",
     "output_type": "stream",
     "text": [
      "Model: \"model\"\n",
      "__________________________________________________________________________________________________\n",
      " Layer (type)                   Output Shape         Param #     Connected to                     \n",
      "==================================================================================================\n",
      " inpA (InputLayer)              [(None, 28, 28)]     0           []                               \n",
      "                                                                                                  \n",
      " inpB (InputLayer)              [(None, 28, 28)]     0           []                               \n",
      "                                                                                                  \n",
      " sequential_4 (Sequential)      (None, 64)           1586496     ['inpA[0][0]',                   \n",
      "                                                                  'inpB[0][0]']                   \n",
      "                                                                                                  \n",
      " concatenate (Concatenate)      (None, 128)          0           ['sequential_4[0][0]',           \n",
      "                                                                  'sequential_4[1][0]']           \n",
      "                                                                                                  \n",
      " dense_1 (Dense)                (None, 64)           8256        ['concatenate[0][0]']            \n",
      "                                                                                                  \n",
      " dense_2 (Dense)                (None, 1)            65          ['dense_1[0][0]']                \n",
      "                                                                                                  \n",
      "==================================================================================================\n",
      "Total params: 1,594,817\n",
      "Trainable params: 1,592,897\n",
      "Non-trainable params: 1,920\n",
      "__________________________________________________________________________________________________\n"
     ]
    },
    {
     "name": "stderr",
     "output_type": "stream",
     "text": [
      "2023-05-30 18:09:50.549516: I tensorflow/compiler/xla/stream_executor/cuda/cuda_gpu_executor.cc:981] successful NUMA node read from SysFS had negative value (-1), but there must be at least one NUMA node, so returning NUMA node zero\n",
      "2023-05-30 18:09:50.552770: I tensorflow/compiler/xla/stream_executor/cuda/cuda_gpu_executor.cc:981] successful NUMA node read from SysFS had negative value (-1), but there must be at least one NUMA node, so returning NUMA node zero\n",
      "2023-05-30 18:09:50.552890: I tensorflow/compiler/xla/stream_executor/cuda/cuda_gpu_executor.cc:981] successful NUMA node read from SysFS had negative value (-1), but there must be at least one NUMA node, so returning NUMA node zero\n",
      "2023-05-30 18:09:50.553261: I tensorflow/core/platform/cpu_feature_guard.cc:193] This TensorFlow binary is optimized with oneAPI Deep Neural Network Library (oneDNN) to use the following CPU instructions in performance-critical operations:  AVX2 FMA\n",
      "To enable them in other operations, rebuild TensorFlow with the appropriate compiler flags.\n",
      "2023-05-30 18:09:50.553653: I tensorflow/compiler/xla/stream_executor/cuda/cuda_gpu_executor.cc:981] successful NUMA node read from SysFS had negative value (-1), but there must be at least one NUMA node, so returning NUMA node zero\n",
      "2023-05-30 18:09:50.553762: I tensorflow/compiler/xla/stream_executor/cuda/cuda_gpu_executor.cc:981] successful NUMA node read from SysFS had negative value (-1), but there must be at least one NUMA node, so returning NUMA node zero\n",
      "2023-05-30 18:09:50.553855: I tensorflow/compiler/xla/stream_executor/cuda/cuda_gpu_executor.cc:981] successful NUMA node read from SysFS had negative value (-1), but there must be at least one NUMA node, so returning NUMA node zero\n",
      "2023-05-30 18:09:50.904770: I tensorflow/compiler/xla/stream_executor/cuda/cuda_gpu_executor.cc:981] successful NUMA node read from SysFS had negative value (-1), but there must be at least one NUMA node, so returning NUMA node zero\n",
      "2023-05-30 18:09:50.904901: I tensorflow/compiler/xla/stream_executor/cuda/cuda_gpu_executor.cc:981] successful NUMA node read from SysFS had negative value (-1), but there must be at least one NUMA node, so returning NUMA node zero\n",
      "2023-05-30 18:09:50.904993: I tensorflow/compiler/xla/stream_executor/cuda/cuda_gpu_executor.cc:981] successful NUMA node read from SysFS had negative value (-1), but there must be at least one NUMA node, so returning NUMA node zero\n",
      "2023-05-30 18:09:50.905074: I tensorflow/core/common_runtime/gpu/gpu_device.cc:1613] Created device /job:localhost/replica:0/task:0/device:GPU:0 with 6883 MB memory:  -> device: 0, name: NVIDIA GeForce GTX 1080, pci bus id: 0000:07:00.0, compute capability: 6.1\n"
     ]
    }
   ],
   "source": [
    "from keras.layers import Dense, Concatenate, Reshape, Input, Conv2D, ReLU, BatchNormalization, GlobalAveragePooling2D\n",
    "from keras.models import Sequential, Model\n",
    "\n",
    "img_A_inp = Input((28,28), name='inpA')\n",
    "img_B_inp = Input((28,28), name='inpB')\n",
    "\n",
    "def get_cnn_block(depth):\n",
    "    return Sequential([Conv2D(depth, 3, 1),\n",
    "                        BatchNormalization(),\n",
    "                       ReLU()])\n",
    "DEPTH = 64\n",
    "cnn = Sequential([Reshape((28, 28,1)),\n",
    "                  get_cnn_block(DEPTH),\n",
    "                  get_cnn_block(DEPTH*2),\n",
    "                  get_cnn_block(DEPTH*4),\n",
    "                  get_cnn_block(DEPTH*8),\n",
    "                  GlobalAveragePooling2D(),\n",
    "                  Dense(64, activation='relu')])\n",
    "\n",
    "feature_vector_A = cnn(img_A_inp)\n",
    "feature_vector_B = cnn(img_B_inp)\n",
    "\n",
    "concat = Concatenate()([feature_vector_A, feature_vector_B])\n",
    "dense = Dense(64, activation='relu')(concat)\n",
    "output = Dense(1, activation='sigmoid')(dense)\n",
    "\n",
    "model = Model(inputs=[img_A_inp, img_B_inp], outputs=output)\n",
    "model.summary()"
   ],
   "metadata": {
    "collapsed": false,
    "ExecuteTime": {
     "end_time": "2023-05-30T16:09:51.153775121Z",
     "start_time": "2023-05-30T16:09:50.500134182Z"
    }
   }
  },
  {
   "cell_type": "code",
   "execution_count": 3,
   "outputs": [
    {
     "data": {
      "text/plain": "((300, 28, 28), (300,))"
     },
     "execution_count": 3,
     "metadata": {},
     "output_type": "execute_result"
    }
   ],
   "source": [
    "import numpy as np\n",
    "random_indices = np.random.choice(X_train.shape[0], 300, replace=False)\n",
    "X_train_sample, y_train_sample = X_train[random_indices], y_train[random_indices]\n",
    "X_train_sample.shape, y_train_sample.shape"
   ],
   "metadata": {
    "collapsed": false,
    "ExecuteTime": {
     "end_time": "2023-05-30T16:09:51.154345451Z",
     "start_time": "2023-05-30T16:09:51.153618738Z"
    }
   }
  },
  {
   "cell_type": "code",
   "execution_count": 4,
   "outputs": [],
   "source": [
    "import itertools\n",
    "def make_paired_dataset(X, y):\n",
    "    X_pairs, y_labels = [],[]\n",
    "    tuples = [(x1,y1) for x1, y1 in zip(X,y)]\n",
    "    for t in itertools.product(tuples, tuples):\n",
    "        pair_A, pair_B = t\n",
    "        img_A, label_A =  t[0]\n",
    "        img_B, label_B =  t[1]\n",
    "\n",
    "        new_label = int(label_A==label_B)\n",
    "        X_pairs.append([img_A, img_B])\n",
    "        y_labels.append(new_label)\n",
    "    X_pairs = np.array(X_pairs)\n",
    "    y_labels = np.array(y_labels)\n",
    "    return X_pairs, y_labels"
   ],
   "metadata": {
    "collapsed": false,
    "ExecuteTime": {
     "end_time": "2023-05-30T16:09:51.154442852Z",
     "start_time": "2023-05-30T16:09:51.153718740Z"
    }
   }
  },
  {
   "cell_type": "code",
   "execution_count": 5,
   "outputs": [],
   "source": [
    "X_train_pairs, y_train_labels = make_paired_dataset(X_train_sample, y_train_sample)"
   ],
   "metadata": {
    "collapsed": false,
    "ExecuteTime": {
     "end_time": "2023-05-30T16:09:51.304724976Z",
     "start_time": "2023-05-30T16:09:51.153878973Z"
    }
   }
  },
  {
   "cell_type": "code",
   "execution_count": 6,
   "outputs": [
    {
     "data": {
      "text/plain": "((90000, 2, 28, 28), (90000,))"
     },
     "execution_count": 6,
     "metadata": {},
     "output_type": "execute_result"
    }
   ],
   "source": [
    "X_train_pairs.shape, y_train_labels.shape"
   ],
   "metadata": {
    "collapsed": false,
    "ExecuteTime": {
     "end_time": "2023-05-30T16:09:51.349934018Z",
     "start_time": "2023-05-30T16:09:51.305936886Z"
    }
   }
  },
  {
   "cell_type": "code",
   "execution_count": 7,
   "outputs": [
    {
     "data": {
      "text/plain": "((150, 28, 28), (150,))"
     },
     "execution_count": 7,
     "metadata": {},
     "output_type": "execute_result"
    }
   ],
   "source": [
    "random_indices = np.random.choice(X_test.shape[0], 150, replace=False)\n",
    "X_test_sample, y_test_sample = X_test[random_indices], y_test[random_indices]\n",
    "X_test_sample.shape, y_test_sample.shape"
   ],
   "metadata": {
    "collapsed": false,
    "ExecuteTime": {
     "end_time": "2023-05-30T16:09:51.350193993Z",
     "start_time": "2023-05-30T16:09:51.349667754Z"
    }
   }
  },
  {
   "cell_type": "code",
   "execution_count": 8,
   "outputs": [],
   "source": [
    "X_test_pairs, y_test_labels = make_paired_dataset(X_test_sample, y_test_sample)"
   ],
   "metadata": {
    "collapsed": false,
    "ExecuteTime": {
     "end_time": "2023-05-30T16:09:51.395780811Z",
     "start_time": "2023-05-30T16:09:51.350066400Z"
    }
   }
  },
  {
   "cell_type": "code",
   "execution_count": 9,
   "outputs": [
    {
     "data": {
      "text/plain": "((22500, 2, 28, 28), (22500,))"
     },
     "execution_count": 9,
     "metadata": {},
     "output_type": "execute_result"
    }
   ],
   "source": [
    "X_test_pairs.shape, y_test_labels.shape"
   ],
   "metadata": {
    "collapsed": false,
    "ExecuteTime": {
     "end_time": "2023-05-30T16:09:51.396267599Z",
     "start_time": "2023-05-30T16:09:51.393603214Z"
    }
   }
  },
  {
   "cell_type": "code",
   "execution_count": 10,
   "outputs": [],
   "source": [
    "model.compile(loss='binary_crossentropy', optimizer=tf.keras.optimizers.Adam(learning_rate=0.001), metrics=['accuracy'])"
   ],
   "metadata": {
    "collapsed": false,
    "ExecuteTime": {
     "end_time": "2023-05-30T16:09:51.396345710Z",
     "start_time": "2023-05-30T16:09:51.393840688Z"
    }
   }
  },
  {
   "cell_type": "code",
   "execution_count": 11,
   "outputs": [],
   "source": [
    "from keras.callbacks import EarlyStopping\n",
    "es = EarlyStopping(patience=3)"
   ],
   "metadata": {
    "collapsed": false,
    "ExecuteTime": {
     "end_time": "2023-05-30T16:09:51.396602604Z",
     "start_time": "2023-05-30T16:09:51.393908169Z"
    }
   }
  },
  {
   "cell_type": "code",
   "execution_count": 12,
   "outputs": [
    {
     "name": "stdout",
     "output_type": "stream",
     "text": [
      "Epoch 1/1000\n"
     ]
    },
    {
     "name": "stderr",
     "output_type": "stream",
     "text": [
      "2023-05-30 18:09:52.649002: I tensorflow/compiler/xla/stream_executor/cuda/cuda_dnn.cc:428] Loaded cuDNN version 8101\n",
      "2023-05-30 18:09:52.760419: I tensorflow/tsl/platform/default/subprocess.cc:304] Start cannot spawn child process: No such file or directory\n",
      "2023-05-30 18:09:53.024677: I tensorflow/compiler/xla/service/service.cc:173] XLA service 0x7f6148017dc0 initialized for platform CUDA (this does not guarantee that XLA will be used). Devices:\n",
      "2023-05-30 18:09:53.024699: I tensorflow/compiler/xla/service/service.cc:181]   StreamExecutor device (0): NVIDIA GeForce GTX 1080, Compute Capability 6.1\n",
      "2023-05-30 18:09:53.033690: I tensorflow/compiler/mlir/tensorflow/utils/dump_mlir_util.cc:268] disabling MLIR crash reproducer, set env var `MLIR_CRASH_REPRODUCER_DIRECTORY` to enable.\n",
      "2023-05-30 18:09:53.115608: I tensorflow/tsl/platform/default/subprocess.cc:304] Start cannot spawn child process: No such file or directory\n",
      "2023-05-30 18:09:53.146101: I tensorflow/compiler/jit/xla_compilation_cache.cc:477] Compiled cluster using XLA!  This line is logged at most once for the lifetime of the process.\n"
     ]
    },
    {
     "name": "stdout",
     "output_type": "stream",
     "text": [
      "2813/2813 [==============================] - 121s 42ms/step - loss: 0.1936 - accuracy: 0.9252 - val_loss: 0.1699 - val_accuracy: 0.9347\n",
      "Epoch 2/1000\n",
      "2813/2813 [==============================] - 115s 41ms/step - loss: 0.0370 - accuracy: 0.9871 - val_loss: 0.1746 - val_accuracy: 0.9447\n",
      "Epoch 3/1000\n",
      "2813/2813 [==============================] - 110s 39ms/step - loss: 0.0118 - accuracy: 0.9964 - val_loss: 0.1359 - val_accuracy: 0.9561\n",
      "Epoch 4/1000\n",
      "2813/2813 [==============================] - 111s 40ms/step - loss: 0.0050 - accuracy: 0.9987 - val_loss: 0.1401 - val_accuracy: 0.9680\n",
      "Epoch 5/1000\n",
      "2813/2813 [==============================] - 105s 37ms/step - loss: 0.0055 - accuracy: 0.9983 - val_loss: 0.1463 - val_accuracy: 0.9673\n",
      "Epoch 6/1000\n",
      "2813/2813 [==============================] - 114s 41ms/step - loss: 0.0020 - accuracy: 0.9994 - val_loss: 0.1437 - val_accuracy: 0.9686\n"
     ]
    },
    {
     "data": {
      "text/plain": "<keras.callbacks.History at 0x7f626409c9a0>"
     },
     "execution_count": 12,
     "metadata": {},
     "output_type": "execute_result"
    }
   ],
   "source": [
    "\n",
    "model.fit(x=[X_train_pairs[:,0,:,:], X_train_pairs[:,1,:,:]],\n",
    "          y = y_train_labels,\n",
    "          validation_data = ([X_test_pairs[:,0,:,:], X_test_pairs[:,1,:,:]],\n",
    "                             y_test_labels\n",
    "                             ),\n",
    "          epochs=1000,\n",
    "          batch_size=32,\n",
    "          callbacks=[es]\n",
    "          )"
   ],
   "metadata": {
    "collapsed": false,
    "ExecuteTime": {
     "end_time": "2023-05-30T16:21:08.434173645Z",
     "start_time": "2023-05-30T16:09:51.393969300Z"
    }
   }
  },
  {
   "cell_type": "code",
   "execution_count": 32,
   "outputs": [
    {
     "data": {
      "text/plain": "(2, 3)"
     },
     "execution_count": 32,
     "metadata": {},
     "output_type": "execute_result"
    }
   ],
   "source": [
    "y_test[1], y_test[44]"
   ],
   "metadata": {
    "collapsed": false,
    "ExecuteTime": {
     "end_time": "2023-05-30T16:24:54.973574418Z",
     "start_time": "2023-05-30T16:24:54.929576887Z"
    }
   }
  },
  {
   "cell_type": "code",
   "execution_count": 33,
   "outputs": [
    {
     "name": "stdout",
     "output_type": "stream",
     "text": [
      "1/1 [==============================] - 0s 15ms/step\n"
     ]
    },
    {
     "data": {
      "text/plain": "array([[2.2042728e-07]], dtype=float32)"
     },
     "execution_count": 33,
     "metadata": {},
     "output_type": "execute_result"
    }
   ],
   "source": [
    "model.predict([X_test[1].reshape((1,28,28)), X_test[44].reshape((1,28,28))])"
   ],
   "metadata": {
    "collapsed": false,
    "ExecuteTime": {
     "end_time": "2023-05-30T16:24:56.506057290Z",
     "start_time": "2023-05-30T16:24:56.461710652Z"
    }
   }
  },
  {
   "cell_type": "code",
   "execution_count": 34,
   "outputs": [
    {
     "name": "stderr",
     "output_type": "stream",
     "text": [
      "WARNING:absl:Function `_wrapped_model` contains input name(s) inpA, inpB with unsupported characters which will be renamed to inpa, inpb in the SavedModel.\n",
      "WARNING:absl:Found untraced functions such as _jit_compiled_convolution_op, _jit_compiled_convolution_op, _jit_compiled_convolution_op, _jit_compiled_convolution_op while saving (showing 4 of 4). These functions will not be directly callable after loading.\n"
     ]
    },
    {
     "name": "stdout",
     "output_type": "stream",
     "text": [
      "INFO:tensorflow:Assets written to: test_network_mnist/assets\n"
     ]
    },
    {
     "name": "stderr",
     "output_type": "stream",
     "text": [
      "INFO:tensorflow:Assets written to: test_network_mnist/assets\n"
     ]
    }
   ],
   "source": [
    "model.save('test_network_mnist')"
   ],
   "metadata": {
    "collapsed": false,
    "ExecuteTime": {
     "end_time": "2023-05-30T16:25:41.843033422Z",
     "start_time": "2023-05-30T16:25:39.972709615Z"
    }
   }
  }
 ],
 "metadata": {
  "kernelspec": {
   "display_name": "Python 3",
   "language": "python",
   "name": "python3"
  },
  "language_info": {
   "codemirror_mode": {
    "name": "ipython",
    "version": 2
   },
   "file_extension": ".py",
   "mimetype": "text/x-python",
   "name": "python",
   "nbconvert_exporter": "python",
   "pygments_lexer": "ipython2",
   "version": "2.7.6"
  }
 },
 "nbformat": 4,
 "nbformat_minor": 0
}
